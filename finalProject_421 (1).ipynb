{
  "nbformat": 4,
  "nbformat_minor": 0,
  "metadata": {
    "colab": {
      "name": "finalProject_421.ipynb",
      "provenance": [],
      "collapsed_sections": []
    },
    "kernelspec": {
      "name": "python3",
      "display_name": "Python 3"
    },
    "accelerator": "GPU"
  },
  "cells": [
    {
      "cell_type": "markdown",
      "metadata": {
        "id": "f3t4_V4qWFJ6",
        "colab_type": "text"
      },
      "source": [
        "Verifying GPU"
      ]
    },
    {
      "cell_type": "code",
      "metadata": {
        "id": "n2EAvOu-WR7Z",
        "colab_type": "code",
        "outputId": "ba3817ea-2e11-4ad5-fd49-618dfef85da1",
        "colab": {
          "base_uri": "https://localhost:8080/",
          "height": 35
        }
      },
      "source": [
        "import tensorflow as tf \n",
        "tf.test.gpu_device_name() "
      ],
      "execution_count": 1,
      "outputs": [
        {
          "output_type": "execute_result",
          "data": {
            "text/plain": [
              "'/device:GPU:0'"
            ]
          },
          "metadata": {
            "tags": []
          },
          "execution_count": 1
        }
      ]
    },
    {
      "cell_type": "markdown",
      "metadata": {
        "id": "e5pbEB0QWSPL",
        "colab_type": "text"
      },
      "source": [
        "Verify TPU"
      ]
    },
    {
      "cell_type": "code",
      "metadata": {
        "id": "ZJ-CupNPWSfw",
        "colab_type": "code",
        "outputId": "bbbfb20d-b638-40ae-da9b-eaa8d4c10e74",
        "colab": {
          "base_uri": "https://localhost:8080/",
          "height": 35
        }
      },
      "source": [
        "import os \n",
        "  \n",
        "if 'COLAB_TPU_ADDR' not in os.environ: \n",
        "  print('Not connected to TPU') \n",
        "else: \n",
        "  print(\"Connected to TPU\") "
      ],
      "execution_count": 2,
      "outputs": [
        {
          "output_type": "stream",
          "text": [
            "Not connected to TPU\n"
          ],
          "name": "stdout"
        }
      ]
    },
    {
      "cell_type": "markdown",
      "metadata": {
        "id": "U4MtjNbBWT3_",
        "colab_type": "text"
      },
      "source": [
        "Copying fingers.zip into colab directory and extracting its contents into this directory"
      ]
    },
    {
      "cell_type": "code",
      "metadata": {
        "id": "WiqE-AkQWUKk",
        "colab_type": "code",
        "colab": {}
      },
      "source": [
        "# zip_path = \"/content/drive/My Drive/Colab Notebooks/fingers.zip\"\n",
        "# !cp \"{zip_path}\" .\n",
        "# !unzip -q fingers.zip\n",
        "# !rm fingers.zip"
      ],
      "execution_count": 0,
      "outputs": []
    },
    {
      "cell_type": "markdown",
      "metadata": {
        "id": "2FjACqGCWUa9",
        "colab_type": "text"
      },
      "source": [
        "Importing Required Libraries"
      ]
    },
    {
      "cell_type": "code",
      "metadata": {
        "id": "WF8UIGFJWUrV",
        "colab_type": "code",
        "outputId": "c4b46334-43b3-4c22-b202-fbcd8f0182e1",
        "colab": {
          "base_uri": "https://localhost:8080/",
          "height": 35
        }
      },
      "source": [
        "from IPython.display import Image\n",
        "from keras.applications.vgg16 import VGG16\n",
        "from sklearn.model_selection import train_test_split\n",
        "from keras.layers import Dense, Activation, Dropout, Flatten, Conv2D, MaxPooling2D, MaxPool2D\n",
        "from keras.models import Sequential\n",
        "from PIL import Image\n",
        "#import keras\n",
        "import os\n",
        "import numpy as np\n",
        "import tensorflow as tf\n",
        "from tensorflow import keras\n",
        "import cv2\n",
        "from google.colab.patches import cv2_imshow\n",
        "\n",
        "#additional\n",
        "import pandas as pd\n",
        "import numpy as np\n",
        "from matplotlib import pyplot as plt\n",
        "from collections import Counter\n",
        "from keras import layers\n",
        "from keras.layers import Input, Dense, Activation, ZeroPadding2D, BatchNormalization, Flatten, Conv2D\n",
        "from keras.layers import AveragePooling2D, MaxPooling2D, Dropout, GlobalMaxPooling2D, GlobalAveragePooling2D\n",
        "from keras.models import Model\n",
        "from keras.preprocessing import image\n",
        "from keras.utils import layer_utils\n",
        "from keras.utils.data_utils import get_file\n",
        "from keras.applications.imagenet_utils import preprocess_input\n",
        "from keras.utils.vis_utils import model_to_dot\n",
        "from keras.utils import plot_model\n",
        "from keras.callbacks import ModelCheckpoint, EarlyStopping, ReduceLROnPlateau\n",
        "from sklearn.metrics import confusion_matrix\n",
        "from keras.preprocessing.image import ImageDataGenerator\n",
        "from keras.utils import to_categorical\n",
        "from keras import optimizers\n",
        "import cv2\n",
        "from itertools import chain\n",
        "import glob\n",
        "\n",
        "\n",
        "%matplotlib inline"
      ],
      "execution_count": 4,
      "outputs": [
        {
          "output_type": "stream",
          "text": [
            "Using TensorFlow backend.\n"
          ],
          "name": "stderr"
        }
      ]
    },
    {
      "cell_type": "markdown",
      "metadata": {
        "id": "1LHPc2XFWU8H",
        "colab_type": "text"
      },
      "source": [
        "Storing data into respective directories"
      ]
    },
    {
      "cell_type": "code",
      "metadata": {
        "id": "RXlJbPMzWVJB",
        "colab_type": "code",
        "outputId": "bcfb87d5-3545-494a-e36d-1a124b9531f0",
        "colab": {
          "base_uri": "https://localhost:8080/",
          "height": 52
        }
      },
      "source": [
        "dir_train = \"fingers/train/\"\n",
        "dir_test = \"fingers/test/\"\n",
        "\n",
        "files_train = os.listdir(dir_train)\n",
        "files_test = os.listdir(dir_test)\n",
        "\n",
        "print(\"Total files in training directory : \" + str(len(files_train)))\n",
        "print(\"Total files in testing directory : \" + str(len(files_test)))"
      ],
      "execution_count": 5,
      "outputs": [
        {
          "output_type": "stream",
          "text": [
            "Total files in training directory : 18000\n",
            "Total files in testing directory : 3600\n"
          ],
          "name": "stdout"
        }
      ]
    },
    {
      "cell_type": "markdown",
      "metadata": {
        "id": "scgedw3VWVUf",
        "colab_type": "text"
      },
      "source": [
        "Creating Testing and Training data variables"
      ]
    },
    {
      "cell_type": "code",
      "metadata": {
        "id": "uC778YemWVfm",
        "colab_type": "code",
        "colab": {}
      },
      "source": [
        "X_train = []\n",
        "Y_train = []\n",
        "\n",
        "X_test = []\n",
        "Y_test = []"
      ],
      "execution_count": 0,
      "outputs": []
    },
    {
      "cell_type": "markdown",
      "metadata": {
        "id": "EpQJTVf0WVqH",
        "colab_type": "text"
      },
      "source": [
        "Image Pre Processing in training and Testing"
      ]
    },
    {
      "cell_type": "code",
      "metadata": {
        "id": "HNpvfq6aWV0C",
        "colab_type": "code",
        "colab": {}
      },
      "source": [
        "i = 1\n",
        "# Preprocess the images in the train directory\n",
        "for file in files_train:\n",
        "    path = os.path.join(dir_train, file)\n",
        "    if \"png\" in path:\n",
        "        label = int(path.split(\"_\")[1].split(\".\")[0][0])\n",
        "        label = keras.utils.to_categorical(label, num_classes=6, dtype='int32')\n",
        "        # Convert the image RGB\n",
        "        img = Image.open(path)\n",
        "        # Image array\n",
        "        img = np.array(img)\n",
        "        img = np.reshape(img, (128, 128, -1)) \n",
        "        X_train.append(img)\n",
        "        Y_train.append(label)\n",
        "\n",
        "for file in files_test:\n",
        "    path = os.path.join(dir_test, file)\n",
        "    if \"png\" in path:\n",
        "        label = int(path.split(\"_\")[1].split(\".\")[0][0])\n",
        "        label = keras.utils.to_categorical(label, num_classes=6, dtype='int32')\n",
        "        # Convert the image RGB\n",
        "        img = Image.open(path)\n",
        "        # Image array\n",
        "        img = np.array(img)\n",
        "        img = np.reshape(img, (128, 128, -1))\n",
        "        X_test.append(img)\n",
        "        Y_test.append(label)"
      ],
      "execution_count": 0,
      "outputs": []
    },
    {
      "cell_type": "markdown",
      "metadata": {
        "id": "13YmjRaOWV8j",
        "colab_type": "text"
      },
      "source": [
        "Create Threshold black and white Image preprocessing"
      ]
    },
    {
      "cell_type": "code",
      "metadata": {
        "id": "cn8YerOQWWG8",
        "colab_type": "code",
        "colab": {}
      },
      "source": [
        "def bw_mesh(img,file):\n",
        "  _, thresh = cv2.threshold(img, 127, 255, cv2.THRESH_BINARY_INV + cv2.THRESH_OTSU)\n",
        "  img_contours = cv2.findContours(thresh, cv2.RETR_TREE, cv2.CHAIN_APPROX_SIMPLE)[-2]\n",
        "  img_contours = sorted(img_contours, key=cv2.contourArea)\n",
        "  for i in img_contours:\n",
        "      if cv2.contourArea(i) > 100:\n",
        "          break\n",
        "  mask = np.zeros(img.shape[:2], np.uint8)\n",
        "  cv2.drawContours(mask, [i],-1, 255, -1)\n",
        "  new_img = cv2.bitwise_and(img, img, mask=mask)\n",
        "  cv2.imwrite(file,new_img)\n",
        "  mask = cv2.imread(file)\n",
        "  indices_list = np.where(np.all(mask != [0,0,0], axis=-1))\n",
        "  mask[indices_list] = [255,255,255]\n",
        "  #cv2_imshow(mask)\n",
        "  return mask\n"
      ],
      "execution_count": 0,
      "outputs": []
    },
    {
      "cell_type": "markdown",
      "metadata": {
        "id": "8XmFW6OKWWPJ",
        "colab_type": "text"
      },
      "source": [
        "inputing threhold images in test and train set"
      ]
    },
    {
      "cell_type": "code",
      "metadata": {
        "id": "lXgod6CeWWWt",
        "colab_type": "code",
        "colab": {}
      },
      "source": [
        "A_test = []\n",
        "for i in range(3600):\n",
        "  a= X_test[i]\n",
        "  res = bw_mesh(a,\"Hi.png\")\n",
        "  A_test.append(res)\n",
        "\n",
        "A_train = []\n",
        "for i in range(18000):\n",
        "  a= X_train[i]\n",
        "  res = bw_mesh(a,\"Hi.png\")\n",
        "  A_train.append(res)\n",
        "\n"
      ],
      "execution_count": 0,
      "outputs": []
    },
    {
      "cell_type": "markdown",
      "metadata": {
        "id": "5KqRrd9zWWeI",
        "colab_type": "text"
      },
      "source": [
        "Testing threshhold function"
      ]
    },
    {
      "cell_type": "code",
      "metadata": {
        "id": "0x4cJiMJWWlk",
        "colab_type": "code",
        "outputId": "a6f24388-7b10-4c23-8da9-e4966af1eaa6",
        "colab": {
          "base_uri": "https://localhost:8080/",
          "height": 273
        }
      },
      "source": [
        "cv2_imshow(A_test[34])\n",
        "cv2_imshow(A_train[34])\n"
      ],
      "execution_count": 10,
      "outputs": [
        {
          "output_type": "display_data",
          "data": {
            "image/png": "[encoded data removed]",
            "text/plain": [
              "<PIL.Image.Image image mode=RGB size=128x128 at 0x7FE2CD364358>"
            ]
          },
          "metadata": {
            "tags": []
          }
        },
        {
          "output_type": "display_data",
          "data": {
            "image/png": "[encoded data removed]",
            "text/plain": [
              "<PIL.Image.Image image mode=RGB size=128x128 at 0x7FE2CDBD9390>"
            ]
          },
          "metadata": {
            "tags": []
          }
        }
      ]
    },
    {
      "cell_type": "markdown",
      "metadata": {
        "id": "sGFtfPkrWWtA",
        "colab_type": "text"
      },
      "source": [
        "Creating np arrays and testings shape of them"
      ]
    },
    {
      "cell_type": "code",
      "metadata": {
        "id": "YdzAmHBUWW1B",
        "colab_type": "code",
        "outputId": "867c257e-1510-4481-986f-035cb0d840f2",
        "colab": {
          "base_uri": "https://localhost:8080/",
          "height": 87
        }
      },
      "source": [
        "X_train = np.array(A_train)\n",
        "Y_train = np.array(Y_train)     \n",
        "\n",
        "X_test = np.array(A_test)\n",
        "Y_test = np.array(Y_test)\n",
        "\n",
        "# Save the numpy arrays\n",
        "np.save(\"X_train.npy\", X_train)\n",
        "np.save(\"Y_train.npy\", Y_train)\n",
        "np.save(\"X_test.npy\", X_test)\n",
        "np.save(\"Y_test.npy\", Y_test)\n",
        "\n",
        "print(X_train.shape)\n",
        "print(Y_train.shape)\n",
        "\n",
        "print(X_test.shape)\n",
        "print(Y_test.shape)"
      ],
      "execution_count": 11,
      "outputs": [
        {
          "output_type": "stream",
          "text": [
            "(18000, 128, 128, 3)\n",
            "(18000, 6)\n",
            "(3600, 128, 128, 3)\n",
            "(3600, 6)\n"
          ],
          "name": "stdout"
        }
      ]
    },
    {
      "cell_type": "markdown",
      "metadata": {
        "id": "_y7vacEyS0VP",
        "colab_type": "text"
      },
      "source": [
        "Image Data Genetor for rotated and modifyied image\n",
        "\n",
        "(TESTing ..............)\n",
        "---\n",
        "\n"
      ]
    },
    {
      "cell_type": "code",
      "metadata": {
        "id": "Rh34ZZXsS0lf",
        "colab_type": "code",
        "colab": {
          "base_uri": "https://localhost:8080/",
          "height": 1000
        },
        "outputId": "6c7c4493-dde5-4b22-fc35-3aa024de3ea0"
      },
      "source": [
        "import cv2\n",
        "from google.colab.patches import cv2_imshow\n",
        "from keras.preprocessing.image import ImageDataGenerator\n",
        "import matplotlib.pyplot as plt\n",
        "\n",
        "aug = ImageDataGenerator(\n",
        "    rotation_range=45,\n",
        "    zoom_range=0.1,\n",
        "    width_shift_range=0.05,\n",
        "    height_shift_range=0.05,\n",
        "    shear_range = 0.1,\n",
        "    horizontal_flip=False,\n",
        "    fill_mode=\"nearest\")\n",
        "\n",
        "\n",
        "batches = 0\n",
        "x_sample = X_train\n",
        "y_sample = Y_train\n",
        "batch = 10\n",
        "for x_batch, y_batch in aug.flow(x_sample, y_sample, batch_size=batch):\n",
        "        cv2_imshow(x_batch[0,:])\n",
        "        batches += 1\n",
        "        if batches == 10:\n",
        "            break\n",
        "from collections import Counter\n",
        "\n",
        "counts = Counter([x.argmax() for x in y_batch])\n",
        "plt.subplots(figsize = (20,10))\n",
        "values = [k for k in counts.values()]\n",
        "labels = [k for k in counts.keys()]\n",
        "plt.bar(labels, values, align='center')\n",
        "plt.ylabel('Counts')\n",
        "plt.title('Labels')\n",
        "\n",
        "plt.show()"
      ],
      "execution_count": 12,
      "outputs": [
        {
          "output_type": "display_data",
          "data": {
            "image/png": "[encoded data removed]",
            "text/plain": [
              "<PIL.Image.Image image mode=RGB size=128x128 at 0x7FE2CDC770F0>"
            ]
          },
          "metadata": {
            "tags": []
          }
        },
        {
          "output_type": "display_data",
          "data": {
            "image/png": "[encoded data removed]",
            "text/plain": [
              "<PIL.Image.Image image mode=RGB size=128x128 at 0x7FE2CDC77240>"
            ]
          },
          "metadata": {
            "tags": []
          }
        },
        {
          "output_type": "display_data",
          "data": {
            "image/png": "[encoded data removed]",
            "text/plain": [
              "<PIL.Image.Image image mode=RGB size=128x128 at 0x7FE2CDC77390>"
            ]
          },
          "metadata": {
            "tags": []
          }
        },
        {
          "output_type": "display_data",
          "data": {
            "image/png": "[encoded data removed]",
            "text/plain": [
              "<PIL.Image.Image image mode=RGB size=128x128 at 0x7FE2CDC770F0>"
            ]
          },
          "metadata": {
            "tags": []
          }
        },
        {
          "output_type": "display_data",
          "data": {
            "image/png": "[encoded data removed]",
            "text/plain": [
              "<PIL.Image.Image image mode=RGB size=128x128 at 0x7FE2CDC77240>"
            ]
          },
          "metadata": {
            "tags": []
          }
        },
        {
          "output_type": "display_data",
          "data": {
            "image/png": "[encoded data removed]",
            "text/plain": [
              "<PIL.Image.Image image mode=RGB size=128x128 at 0x7FE2CDC77390>"
            ]
          },
          "metadata": {
            "tags": []
          }
        },
        {
          "output_type": "display_data",
          "data": {
            "image/png": "[encoded data removed]",
            "text/plain": [
              "<PIL.Image.Image image mode=RGB size=128x128 at 0x7FE2CDC770F0>"
            ]
          },
          "metadata": {
            "tags": []
          }
        },
        {
          "output_type": "display_data",
          "data": {
            "image/png": "[encoded data removed]",
            "text/plain": [
              "<PIL.Image.Image image mode=RGB size=128x128 at 0x7FE2CDC77240>"
            ]
          },
          "metadata": {
            "tags": []
          }
        },
        {
          "output_type": "display_data",
          "data": {
            "image/png": "[encoded data removed]",
            "text/plain": [
              "<PIL.Image.Image image mode=RGB size=128x128 at 0x7FE2CDC77390>"
            ]
          },
          "metadata": {
            "tags": []
          }
        },
        {
          "output_type": "display_data",
          "data": {
            "image/png": "[encoded data removed]",
            "text/plain": [
              "<PIL.Image.Image image mode=RGB size=128x128 at 0x7FE2CDC770F0>"
            ]
          },
          "metadata": {
            "tags": []
          }
        },
        {
          "output_type": "display_data",
          "data": {
            "image/png": "[encoded data removed]",
            "text/plain": [
              "<Figure size 1440x720 with 1 Axes>"
            ]
          },
          "metadata": {
            "tags": [],
            "needs_background": "light"
          }
        }
      ]
    },
    {
      "cell_type": "markdown",
      "metadata": {
        "id": "6anK_TQpWW8N",
        "colab_type": "text"
      },
      "source": [
        "Splitting Dataset"
      ]
    },
    {
      "cell_type": "code",
      "metadata": {
        "id": "pWJxgBaAWXDa",
        "colab_type": "code",
        "colab": {}
      },
      "source": [
        "# Form the training and validation data out of the train folder\n",
        "X_t, X_v, Y_t, Y_v = train_test_split(X_train, Y_train, test_size=0.2, random_state=1)\n"
      ],
      "execution_count": 0,
      "outputs": []
    },
    {
      "cell_type": "markdown",
      "metadata": {
        "id": "YNud8lKWWXaB",
        "colab_type": "text"
      },
      "source": [
        "CReate custsmized model function"
      ]
    },
    {
      "cell_type": "code",
      "metadata": {
        "id": "0LuFnciLWXhK",
        "colab_type": "code",
        "colab": {}
      },
      "source": [
        "# Form the simple customized CNN model\n",
        "def createModel(epoch,batchSize,dropout,denseActivationFunction,neurons,lossFunction,\n",
        "                gradientDescent,evaluate):\n",
        "  model = Sequential()\n",
        "  model.add(Conv2D(32, (3,3), input_shape = (128, 128, 3), activation = 'relu'))\n",
        "  model.add(MaxPool2D((2,2)))\n",
        "  model.add(Conv2D(64, (3,3), activation = 'relu'))\n",
        "  model.add(MaxPool2D((2,2)))\n",
        "  model.add(Conv2D(128, (3,3), activation = 'relu'))\n",
        "  model.add(MaxPool2D((2,2)))\n",
        "  model.add(Conv2D(256, (3,3), activation = 'relu'))\n",
        "  model.add(MaxPool2D((2,2)))\n",
        "  model.add(Flatten())\n",
        "  model.add(Dropout(dropout))\n",
        "  model.add(Dense(neurons, activation = denseActivationFunction))\n",
        "  model.add(Dropout(dropout))\n",
        "  model.add(Dense(6, activation = 'softmax'))\n",
        "  model.compile(gradientDescent, loss = lossFunction, metrics = ['accuracy'])\n",
        "  #history = model.fit(x = X_t, y = Y_t, batch_size = batchSize, epochs = epoch, validation_data = (x_batch, y_batch))\n",
        "  history = model.fit_generator(generator = aug.flow(X_train, Y_train, batch_size=32), steps_per_epoch= X_train.shape[0] // 32, \n",
        "                              validation_data=aug.flow(X_test, Y_test, batch_size=32), validation_steps = X_test.shape[0] // 32, epochs = 50, callbacks=callbacks_list)\n",
        "  if evaluate == True:\n",
        "    score = model.evaluate(X_v, Y_v)\n",
        "    print(\"Loss : \",score[0])\n",
        "    print(\"Accuracy : {} %\".format(score[1]*100))\n",
        "  return model,history\n"
      ],
      "execution_count": 0,
      "outputs": []
    },
    {
      "cell_type": "markdown",
      "metadata": {
        "id": "DTTeG_qHkgFj",
        "colab_type": "text"
      },
      "source": [
        "Callbacks for fineTuning"
      ]
    },
    {
      "cell_type": "code",
      "metadata": {
        "id": "SHERRfOAkfW8",
        "colab_type": "code",
        "colab": {}
      },
      "source": [
        "earlyStopping = EarlyStopping(monitor='val_loss', verbose=1, min_delta=0, restore_best_weights = True, patience=3, mode='min')\n",
        "callbacks_list = [earlyStopping]"
      ],
      "execution_count": 0,
      "outputs": []
    },
    {
      "cell_type": "markdown",
      "metadata": {
        "id": "EMbQj_4llICx",
        "colab_type": "text"
      },
      "source": [
        "*Test Model parameters and do fine tuning above if needed*"
      ]
    },
    {
      "cell_type": "code",
      "metadata": {
        "id": "A6wteTPylINj",
        "colab_type": "code",
        "outputId": "c4b1d0a9-9c98-4115-a3c6-5e5d92508799",
        "colab": {
          "base_uri": "https://localhost:8080/",
          "height": 817
        }
      },
      "source": [
        "model = createModel(epoch = 12,batchSize =32,dropout = 0.3,denseActivationFunction='tanh',neurons = 256,lossFunction='categorical_crossentropy',\n",
        "                gradientDescent='SGD',evaluate=True)"
      ],
      "execution_count": 16,
      "outputs": [
        {
          "output_type": "stream",
          "text": [
            "Epoch 1/50\n",
            "562/562 [==============================] - 78s 139ms/step - loss: 2.0595 - accuracy: 0.1666 - val_loss: 1.8344 - val_accuracy: 0.1669\n",
            "Epoch 2/50\n",
            "562/562 [==============================] - 73s 130ms/step - loss: 1.9279 - accuracy: 0.1690 - val_loss: 1.9207 - val_accuracy: 0.1673\n",
            "Epoch 3/50\n",
            "562/562 [==============================] - 73s 129ms/step - loss: 1.8687 - accuracy: 0.1715 - val_loss: 1.7871 - val_accuracy: 0.1662\n",
            "Epoch 4/50\n",
            "562/562 [==============================] - 72s 129ms/step - loss: 1.8443 - accuracy: 0.1674 - val_loss: 1.7794 - val_accuracy: 0.1682\n",
            "Epoch 5/50\n",
            "562/562 [==============================] - 73s 130ms/step - loss: 1.8231 - accuracy: 0.1755 - val_loss: 1.8290 - val_accuracy: 0.1698\n",
            "Epoch 6/50\n",
            "562/562 [==============================] - 73s 129ms/step - loss: 1.8138 - accuracy: 0.1756 - val_loss: 1.7775 - val_accuracy: 0.1928\n",
            "Epoch 7/50\n",
            "562/562 [==============================] - 73s 129ms/step - loss: 1.8132 - accuracy: 0.1844 - val_loss: 1.8087 - val_accuracy: 0.1651\n",
            "Epoch 8/50\n",
            "562/562 [==============================] - 72s 128ms/step - loss: 1.7957 - accuracy: 0.1981 - val_loss: 1.7581 - val_accuracy: 0.1645\n",
            "Epoch 9/50\n",
            "562/562 [==============================] - 72s 128ms/step - loss: 1.7396 - accuracy: 0.2321 - val_loss: 1.6059 - val_accuracy: 0.2626\n",
            "Epoch 10/50\n",
            "562/562 [==============================] - 71s 127ms/step - loss: 1.0937 - accuracy: 0.5581 - val_loss: 0.6182 - val_accuracy: 0.7892\n",
            "Epoch 11/50\n",
            "562/562 [==============================] - 70s 125ms/step - loss: 0.5841 - accuracy: 0.7897 - val_loss: 0.3741 - val_accuracy: 0.9120\n",
            "Epoch 12/50\n",
            "562/562 [==============================] - 70s 125ms/step - loss: 0.4170 - accuracy: 0.8573 - val_loss: 0.2251 - val_accuracy: 0.9260\n",
            "Epoch 13/50\n",
            "562/562 [==============================] - 71s 125ms/step - loss: 0.3227 - accuracy: 0.8934 - val_loss: 0.1844 - val_accuracy: 0.9507\n",
            "Epoch 14/50\n",
            "562/562 [==============================] - 71s 126ms/step - loss: 0.3005 - accuracy: 0.9019 - val_loss: 0.1225 - val_accuracy: 0.9641\n",
            "Epoch 15/50\n",
            "562/562 [==============================] - 71s 126ms/step - loss: 0.2431 - accuracy: 0.9217 - val_loss: 0.1589 - val_accuracy: 0.9711\n",
            "Epoch 16/50\n",
            "562/562 [==============================] - 71s 127ms/step - loss: 0.2328 - accuracy: 0.9261 - val_loss: 0.1090 - val_accuracy: 0.9725\n",
            "Epoch 17/50\n",
            "562/562 [==============================] - 74s 131ms/step - loss: 0.2382 - accuracy: 0.9194 - val_loss: 0.0947 - val_accuracy: 0.9501\n",
            "Epoch 18/50\n",
            "562/562 [==============================] - 74s 131ms/step - loss: 0.2158 - accuracy: 0.9324 - val_loss: 0.0967 - val_accuracy: 0.9731\n",
            "Epoch 19/50\n",
            "562/562 [==============================] - 74s 131ms/step - loss: 0.2229 - accuracy: 0.9288 - val_loss: 0.1060 - val_accuracy: 0.9739\n",
            "Epoch 20/50\n",
            "562/562 [==============================] - 73s 131ms/step - loss: 0.2503 - accuracy: 0.9138 - val_loss: 0.2535 - val_accuracy: 0.9644\n",
            "Restoring model weights from the end of the best epoch\n",
            "Epoch 00020: early stopping\n",
            "3600/3600 [==============================] - 1s 249us/step\n",
            "Loss :  0.14700745575957827\n",
            "Accuracy : 96.83333039283752 %\n"
          ],
          "name": "stdout"
        }
      ]
    },
    {
      "cell_type": "markdown",
      "metadata": {
        "id": "UygQlnBQbnDG",
        "colab_type": "text"
      },
      "source": [
        "Save Model"
      ]
    },
    {
      "cell_type": "code",
      "metadata": {
        "id": "IKME_HyKbnNt",
        "colab_type": "code",
        "colab": {}
      },
      "source": [
        "model[0].save('gestureRecognitionSoftwareVersionPLeaseWork2.h5')"
      ],
      "execution_count": 0,
      "outputs": []
    },
    {
      "cell_type": "markdown",
      "metadata": {
        "id": "I5G93C_-bnYQ",
        "colab_type": "text"
      },
      "source": [
        "Load Model and Display input Shape of Model"
      ]
    },
    {
      "cell_type": "code",
      "metadata": {
        "id": "blXQtKOvbniL",
        "colab_type": "code",
        "outputId": "2f371482-fcc4-4083-c0ea-a127359ca233",
        "colab": {
          "base_uri": "https://localhost:8080/",
          "height": 72
        }
      },
      "source": [
        "loaded_model = tf.keras.models.load_model('gestureRecognitionSoftwareVersionPLeaseWork2.h5')\n",
        "loaded_model.layers[0].input_shape "
      ],
      "execution_count": 19,
      "outputs": [
        {
          "output_type": "stream",
          "text": [
            "WARNING:tensorflow:Error in loading the saved optimizer state. As a result, your model is starting with a freshly initialized optimizer.\n"
          ],
          "name": "stdout"
        },
        {
          "output_type": "execute_result",
          "data": {
            "text/plain": [
              "(None, 128, 128, 3)"
            ]
          },
          "metadata": {
            "tags": []
          },
          "execution_count": 19
        }
      ]
    },
    {
      "cell_type": "markdown",
      "metadata": {
        "id": "6euufJyvbpAC",
        "colab_type": "text"
      },
      "source": [
        "function to determine what number is Image\n",
        "# ***preprocessing from camera still left***\n"
      ]
    },
    {
      "cell_type": "code",
      "metadata": {
        "id": "mIeC7nK0bpNQ",
        "colab_type": "code",
        "colab": {}
      },
      "source": [
        "import cv2\n",
        "from google.colab.patches import cv2_imshow\n",
        "from IPython.display import Image\n",
        "from keras.preprocessing.image import load_img\n",
        "import matplotlib.pyplot as plt\n",
        "\n",
        "def whatNumberIsImage(file,showMask = False):\n",
        "  mask = cv2.imread(file)\n",
        "  img = mask\n",
        "  img = np.expand_dims(img, axis=0)\n",
        "  #img = np.expand_dims(img, axis=-1)\n",
        "  result=loaded_model.predict_classes(img)\n",
        "  percentage= loaded_model.predict(img)\n",
        "  class_names = ['0', '1', '2', '3', '4','5']\n",
        "  classNum = 0\n",
        "  for i in percentage[0]:\n",
        "    print(\"class \"+str(classNum)+ \" : \" + str(i*100))\n",
        "    classNum = classNum + 1\n",
        "  print(\"The above are all in percentages\" )\n",
        "  maxVal = result\n",
        "  print(\"The predicted number(class) is : \" + str(maxVal))\n",
        "  if showMask == True:\n",
        "    cv2_imshow(mask)\n",
        "\n",
        "def testValidationset(image,showMask = False):\n",
        "  img = image\n",
        "  img = np.expand_dims(img, axis=0)\n",
        "  # img = np.expand_dims(img, axis=-1)\n",
        "  result=loaded_model.predict_classes(img)\n",
        "  percentage= loaded_model.predict(img)\n",
        "  class_names = ['0', '1', '2', '3', '4','5']\n",
        "  classNum = 0\n",
        "  for i in percentage[0]:\n",
        "    print(\"class \"+str(classNum)+ \" : \" + str(i*100))\n",
        "    classNum = classNum + 1\n",
        "  print(\"The above are all in percentages\" )\n",
        "  maxVal = result\n",
        "  print(\"The predicted number(class) is : \" + str(maxVal))\n",
        "  if showMask == True:\n",
        "    cv2_imshow(image)\n"
      ],
      "execution_count": 0,
      "outputs": []
    },
    {
      "cell_type": "markdown",
      "metadata": {
        "id": "u2r3h0cIbpXr",
        "colab_type": "text"
      },
      "source": [
        "Test Image"
      ]
    },
    {
      "cell_type": "code",
      "metadata": {
        "id": "aUKteYAWiE-5",
        "colab_type": "code",
        "outputId": "9d72f2d6-ffa4-454b-d838-278ee469caee",
        "colab": {
          "base_uri": "https://localhost:8080/",
          "height": 284
        }
      },
      "source": [
        "#whatNumberIsImage(\"Hi5.png\",True)\n",
        "testValidationset(x_batch[0],True)"
      ],
      "execution_count": 24,
      "outputs": [
        {
          "output_type": "stream",
          "text": [
            "class 0 : 0.0020546031009871513\n",
            "class 1 : 0.10564461117610335\n",
            "class 2 : 2.3402102291584015\n",
            "class 3 : 71.22931480407715\n",
            "class 4 : 26.128214597702026\n",
            "class 5 : 0.19456041045486927\n",
            "The above are all in percentages\n",
            "The predicted number(class) is : [3]\n"
          ],
          "name": "stdout"
        },
        {
          "output_type": "display_data",
          "data": {
            "image/png": "[encoded data removed]",
            "text/plain": [
              "<PIL.Image.Image image mode=RGB size=128x128 at 0x7FE2CB5B8390>"
            ]
          },
          "metadata": {
            "tags": []
          }
        }
      ]
    },
    {
      "cell_type": "markdown",
      "metadata": {
        "id": "rn9F25bPiFYl",
        "colab_type": "text"
      },
      "source": [
        "Graphs of different measures"
      ]
    },
    {
      "cell_type": "code",
      "metadata": {
        "id": "cYST4VvEiFl6",
        "colab_type": "code",
        "colab": {
          "base_uri": "https://localhost:8080/",
          "height": 383
        },
        "outputId": "43930cb3-30a0-45f5-85b5-096294dea2fc"
      },
      "source": [
        "\n",
        "history = model[1]\n",
        "\n",
        "print(history.history.keys())\n",
        "plt.figure(figsize=(16, 6))\n",
        "plt.plot(history.history['loss'])\n",
        "plt.plot(history.history['val_loss'])\n",
        "plt.plot(history.history['accuracy'])\n",
        "plt.plot(history.history['val_accuracy'])\n",
        "plt.title('Model Loss and Accuracy')\n",
        "plt.ylabel('Value')\n",
        "plt.xlabel('Epoch')\n",
        "plt.legend(['Train Loss', 'Validation Loss', \"Accuracy\", \"Validation Accuracy\"], loc='upper left')\n",
        "plt.savefig('training.png')\n",
        "plt.show()"
      ],
      "execution_count": 29,
      "outputs": [
        {
          "output_type": "stream",
          "text": [
            "dict_keys(['val_loss', 'val_accuracy', 'loss', 'accuracy'])\n"
          ],
          "name": "stdout"
        },
        {
          "output_type": "display_data",
          "data": {
            "image/png": "[encoded data removed]",
            "text/plain": [
              "<Figure size 1152x432 with 1 Axes>"
            ]
          },
          "metadata": {
            "tags": [],
            "needs_background": "light"
          }
        }
      ]
    },
    {
      "cell_type": "markdown",
      "metadata": {
        "id": "b3xuWIS-iFzG",
        "colab_type": "text"
      },
      "source": [
        ""
      ]
    },
    {
      "cell_type": "code",
      "metadata": {
        "id": "JXEPjyICiF-6",
        "colab_type": "code",
        "colab": {
          "base_uri": "https://localhost:8080/",
          "height": 591
        },
        "outputId": "c012bebd-da7d-48b6-f8c9-f4a5edfc140d"
      },
      "source": [
        "# summarize history for accuracy\n",
        "plt.plot(history.history['accuracy'])\n",
        "plt.plot(history.history['val_accuracy'])\n",
        "plt.title('model accuracy')\n",
        "plt.ylabel('accuracy')\n",
        "plt.xlabel('epoch')\n",
        "plt.legend(['train', 'test'], loc='upper left')\n",
        "plt.show()\n",
        "# summarize history for loss\n",
        "plt.plot(history.history['loss'])\n",
        "plt.plot(history.history['val_loss'])\n",
        "plt.title('model loss')\n",
        "plt.ylabel('loss')\n",
        "plt.xlabel('epoch')\n",
        "plt.legend(['train', 'test'], loc='upper left')"
      ],
      "execution_count": 30,
      "outputs": [
        {
          "output_type": "display_data",
          "data": {
            "image/png": "[encoded data removed]",
            "text/plain": [
              "<Figure size 432x288 with 1 Axes>"
            ]
          },
          "metadata": {
            "tags": [],
            "needs_background": "light"
          }
        },
        {
          "output_type": "execute_result",
          "data": {
            "text/plain": [
              "<matplotlib.legend.Legend at 0x7fe2cb7bba20>"
            ]
          },
          "metadata": {
            "tags": []
          },
          "execution_count": 30
        },
        {
          "output_type": "display_data",
          "data": {
            "image/png": "[encoded data removed]",
            "text/plain": [
              "<Figure size 432x288 with 1 Axes>"
            ]
          },
          "metadata": {
            "tags": [],
            "needs_background": "light"
          }
        }
      ]
    },
    {
      "cell_type": "markdown",
      "metadata": {
        "id": "HJX31HgFiGJX",
        "colab_type": "text"
      },
      "source": [
        ""
      ]
    },
    {
      "cell_type": "code",
      "metadata": {
        "id": "rgZj9w6jiGUH",
        "colab_type": "code",
        "colab": {}
      },
      "source": [
        ""
      ],
      "execution_count": 0,
      "outputs": []
    },
    {
      "cell_type": "markdown",
      "metadata": {
        "id": "XKW-ZcFsiGeK",
        "colab_type": "text"
      },
      "source": [
        ""
      ]
    },
    {
      "cell_type": "code",
      "metadata": {
        "id": "KGrgejAQiGnH",
        "colab_type": "code",
        "colab": {}
      },
      "source": [
        ""
      ],
      "execution_count": 0,
      "outputs": []
    },
    {
      "cell_type": "markdown",
      "metadata": {
        "id": "mFGdcwRhiGvt",
        "colab_type": "text"
      },
      "source": [
        ""
      ]
    },
    {
      "cell_type": "code",
      "metadata": {
        "id": "BnlIVUZ1iG9Y",
        "colab_type": "code",
        "colab": {}
      },
      "source": [
        ""
      ],
      "execution_count": 0,
      "outputs": []
    },
    {
      "cell_type": "markdown",
      "metadata": {
        "id": "o9cwMAHAiHFu",
        "colab_type": "text"
      },
      "source": [
        ""
      ]
    },
    {
      "cell_type": "code",
      "metadata": {
        "id": "r5JbggjdiHO4",
        "colab_type": "code",
        "colab": {}
      },
      "source": [
        ""
      ],
      "execution_count": 0,
      "outputs": []
    },
    {
      "cell_type": "markdown",
      "metadata": {
        "id": "jtTUWFW1iHW6",
        "colab_type": "text"
      },
      "source": [
        ""
      ]
    },
    {
      "cell_type": "code",
      "metadata": {
        "id": "Pa6pA-96iHfP",
        "colab_type": "code",
        "colab": {}
      },
      "source": [
        ""
      ],
      "execution_count": 0,
      "outputs": []
    },
    {
      "cell_type": "markdown",
      "metadata": {
        "id": "GLE_SNKTiHnP",
        "colab_type": "text"
      },
      "source": [
        ""
      ]
    },
    {
      "cell_type": "code",
      "metadata": {
        "id": "WAec6Q1ZiHuX",
        "colab_type": "code",
        "colab": {}
      },
      "source": [
        ""
      ],
      "execution_count": 0,
      "outputs": []
    }
  ]
}